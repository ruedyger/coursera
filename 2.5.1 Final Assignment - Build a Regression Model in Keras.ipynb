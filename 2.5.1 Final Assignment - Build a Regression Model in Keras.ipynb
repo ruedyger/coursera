{
 "cells": [
  {
   "cell_type": "markdown",
   "metadata": {},
   "source": [
    "\n",
    "\n",
    "<h1 align=center><font size = 5>Peer-graded Assignment: Build a Regression Model in Keras</font></h1>\n"
   ]
  },
  {
   "cell_type": "markdown",
   "metadata": {},
   "source": [
    "<a id='item41'></a>\n"
   ]
  },
  {
   "cell_type": "markdown",
   "metadata": {},
   "source": [
    "### Import Keras and Packages\n"
   ]
  },
  {
   "cell_type": "code",
   "execution_count": 15,
   "metadata": {},
   "outputs": [],
   "source": [
    "#!pip install numpy==1.21.4\n",
    "#!pip install pandas==1.3.4\n",
    "#!pip install keras==2.1.6"
   ]
  },
  {
   "cell_type": "code",
   "execution_count": 16,
   "metadata": {},
   "outputs": [],
   "source": [
    "import pandas as pd\n",
    "import numpy as np"
   ]
  },
  {
   "cell_type": "code",
   "execution_count": 17,
   "metadata": {},
   "outputs": [],
   "source": [
    "import keras\n",
    "from keras.models import Sequential\n",
    "from keras.layers import Dense\n",
    "from keras.utils import to_categorical"
   ]
  },
  {
   "cell_type": "markdown",
   "metadata": {},
   "source": [
    "<a id='item42'></a>\n"
   ]
  },
  {
   "cell_type": "markdown",
   "metadata": {},
   "source": [
    "### Import Dataset"
   ]
  },
  {
   "cell_type": "code",
   "execution_count": 18,
   "metadata": {},
   "outputs": [
    {
     "data": {
      "text/html": [
       "<div>\n",
       "<style scoped>\n",
       "    .dataframe tbody tr th:only-of-type {\n",
       "        vertical-align: middle;\n",
       "    }\n",
       "\n",
       "    .dataframe tbody tr th {\n",
       "        vertical-align: top;\n",
       "    }\n",
       "\n",
       "    .dataframe thead th {\n",
       "        text-align: right;\n",
       "    }\n",
       "</style>\n",
       "<table border=\"1\" class=\"dataframe\">\n",
       "  <thead>\n",
       "    <tr style=\"text-align: right;\">\n",
       "      <th></th>\n",
       "      <th>Cement</th>\n",
       "      <th>Blast Furnace Slag</th>\n",
       "      <th>Fly Ash</th>\n",
       "      <th>Water</th>\n",
       "      <th>Superplasticizer</th>\n",
       "      <th>Coarse Aggregate</th>\n",
       "      <th>Fine Aggregate</th>\n",
       "      <th>Age</th>\n",
       "      <th>Strength</th>\n",
       "    </tr>\n",
       "  </thead>\n",
       "  <tbody>\n",
       "    <tr>\n",
       "      <th>0</th>\n",
       "      <td>540.0</td>\n",
       "      <td>0.0</td>\n",
       "      <td>0.0</td>\n",
       "      <td>162.0</td>\n",
       "      <td>2.5</td>\n",
       "      <td>1040.0</td>\n",
       "      <td>676.0</td>\n",
       "      <td>28</td>\n",
       "      <td>79.99</td>\n",
       "    </tr>\n",
       "    <tr>\n",
       "      <th>1</th>\n",
       "      <td>540.0</td>\n",
       "      <td>0.0</td>\n",
       "      <td>0.0</td>\n",
       "      <td>162.0</td>\n",
       "      <td>2.5</td>\n",
       "      <td>1055.0</td>\n",
       "      <td>676.0</td>\n",
       "      <td>28</td>\n",
       "      <td>61.89</td>\n",
       "    </tr>\n",
       "    <tr>\n",
       "      <th>2</th>\n",
       "      <td>332.5</td>\n",
       "      <td>142.5</td>\n",
       "      <td>0.0</td>\n",
       "      <td>228.0</td>\n",
       "      <td>0.0</td>\n",
       "      <td>932.0</td>\n",
       "      <td>594.0</td>\n",
       "      <td>270</td>\n",
       "      <td>40.27</td>\n",
       "    </tr>\n",
       "    <tr>\n",
       "      <th>3</th>\n",
       "      <td>332.5</td>\n",
       "      <td>142.5</td>\n",
       "      <td>0.0</td>\n",
       "      <td>228.0</td>\n",
       "      <td>0.0</td>\n",
       "      <td>932.0</td>\n",
       "      <td>594.0</td>\n",
       "      <td>365</td>\n",
       "      <td>41.05</td>\n",
       "    </tr>\n",
       "    <tr>\n",
       "      <th>4</th>\n",
       "      <td>198.6</td>\n",
       "      <td>132.4</td>\n",
       "      <td>0.0</td>\n",
       "      <td>192.0</td>\n",
       "      <td>0.0</td>\n",
       "      <td>978.4</td>\n",
       "      <td>825.5</td>\n",
       "      <td>360</td>\n",
       "      <td>44.30</td>\n",
       "    </tr>\n",
       "  </tbody>\n",
       "</table>\n",
       "</div>"
      ],
      "text/plain": [
       "   Cement  Blast Furnace Slag  Fly Ash  Water  Superplasticizer  \\\n",
       "0   540.0                 0.0      0.0  162.0               2.5   \n",
       "1   540.0                 0.0      0.0  162.0               2.5   \n",
       "2   332.5               142.5      0.0  228.0               0.0   \n",
       "3   332.5               142.5      0.0  228.0               0.0   \n",
       "4   198.6               132.4      0.0  192.0               0.0   \n",
       "\n",
       "   Coarse Aggregate  Fine Aggregate  Age  Strength  \n",
       "0            1040.0           676.0   28     79.99  \n",
       "1            1055.0           676.0   28     61.89  \n",
       "2             932.0           594.0  270     40.27  \n",
       "3             932.0           594.0  365     41.05  \n",
       "4             978.4           825.5  360     44.30  "
      ]
     },
     "execution_count": 18,
     "metadata": {},
     "output_type": "execute_result"
    }
   ],
   "source": [
    "concrete_data = pd.read_csv('https://s3-api.us-geo.objectstorage.softlayer.net/cf-courses-data/CognitiveClass/DL0101EN/labs/data/concrete_data.csv')\n",
    "concrete_data.head()"
   ]
  },
  {
   "cell_type": "markdown",
   "metadata": {},
   "source": [
    "# Part A - Baseline Model"
   ]
  },
  {
   "cell_type": "code",
   "execution_count": 19,
   "metadata": {},
   "outputs": [],
   "source": [
    "# Split data into predictors and target\n",
    "concrete_data_columns = concrete_data.columns\n",
    "\n",
    "predictors = concrete_data[concrete_data_columns[concrete_data_columns != 'Strength']] # all columns except Strength\n",
    "target = concrete_data['Strength'] # Strength column\n",
    "\n",
    "n_cols = predictors.shape[1] # number of predictors"
   ]
  },
  {
   "cell_type": "code",
   "execution_count": 20,
   "metadata": {},
   "outputs": [],
   "source": [
    "# Splitting Train / Test Data\n",
    "from sklearn.model_selection import train_test_split\n",
    "\n",
    "x_train, x_test, y_train, y_test = train_test_split(predictors, target, test_size=0.3, random_state=42)\n"
   ]
  },
  {
   "cell_type": "code",
   "execution_count": 21,
   "metadata": {},
   "outputs": [],
   "source": [
    "# define regression model\n",
    "def baseline():\n",
    "    model = Sequential()\n",
    "    model.add(Dense(10, activation='relu', input_shape=(n_cols,)))\n",
    "    model.add(Dense(1))\n",
    "    \n",
    "    # compile model\n",
    "    model.compile(optimizer='adam', loss='mean_squared_error')\n",
    "    return model"
   ]
  },
  {
   "cell_type": "code",
   "execution_count": 22,
   "metadata": {},
   "outputs": [],
   "source": [
    "# build the model\n",
    "model = baseline()"
   ]
  },
  {
   "cell_type": "code",
   "execution_count": 23,
   "metadata": {},
   "outputs": [
    {
     "data": {
      "text/plain": [
       "<keras.callbacks.History at 0x7f536c2f85d0>"
      ]
     },
     "execution_count": 23,
     "metadata": {},
     "output_type": "execute_result"
    }
   ],
   "source": [
    "# fit the model\n",
    "model.fit(x_train, y_train,  epochs=50, verbose=0)"
   ]
  },
  {
   "cell_type": "code",
   "execution_count": 24,
   "metadata": {},
   "outputs": [],
   "source": [
    "# model predictions on test sample\n",
    "y_pred = model.predict(x_test)\n"
   ]
  },
  {
   "cell_type": "code",
   "execution_count": 25,
   "metadata": {},
   "outputs": [],
   "source": [
    "# Calculate MSE\n",
    "from sklearn.metrics import mean_squared_error\n",
    "\n",
    "mse = np.zeros(50)\n",
    "mse[0] = mean_squared_error(y_test, y_pred)"
   ]
  },
  {
   "cell_type": "markdown",
   "metadata": {},
   "source": [
    "### Loop"
   ]
  },
  {
   "cell_type": "code",
   "execution_count": 26,
   "metadata": {},
   "outputs": [
    {
     "name": "stdout",
     "output_type": "stream",
     "text": [
      "0: Model MSE = 175.8046108572226\n",
      "1: Model MSE = 132.82505549740722\n",
      "2: Model MSE = 99.6192840669869\n",
      "3: Model MSE = 77.3437439939325\n",
      "4: Model MSE = 87.69575579391069\n",
      "5: Model MSE = 74.5838056446534\n",
      "6: Model MSE = 80.19399690546658\n",
      "7: Model MSE = 65.03394902060134\n",
      "8: Model MSE = 80.99423021059306\n",
      "9: Model MSE = 48.935326488421516\n",
      "10: Model MSE = 59.104836674801795\n",
      "11: Model MSE = 53.88910065757842\n",
      "12: Model MSE = 48.863890842464194\n",
      "13: Model MSE = 43.35599234843158\n",
      "14: Model MSE = 50.12138839587418\n",
      "15: Model MSE = 48.79583677550232\n",
      "16: Model MSE = 52.871449069951204\n",
      "17: Model MSE = 44.32231896895998\n",
      "18: Model MSE = 53.44056839724938\n",
      "19: Model MSE = 47.62589261615415\n",
      "20: Model MSE = 48.84923240372838\n",
      "21: Model MSE = 48.46692406495215\n",
      "22: Model MSE = 55.5020924669549\n",
      "23: Model MSE = 49.02544449593439\n",
      "24: Model MSE = 47.625886429721504\n",
      "25: Model MSE = 52.02369606723581\n",
      "26: Model MSE = 45.9374374777685\n",
      "27: Model MSE = 48.79706482475827\n",
      "28: Model MSE = 43.11839284047385\n",
      "29: Model MSE = 49.54151352896488\n",
      "30: Model MSE = 44.83957010805535\n",
      "31: Model MSE = 51.02605569813834\n",
      "32: Model MSE = 46.83799574568495\n",
      "33: Model MSE = 43.58015897874352\n",
      "34: Model MSE = 47.590105927532065\n",
      "35: Model MSE = 47.55118281836819\n",
      "36: Model MSE = 38.868795464776056\n",
      "37: Model MSE = 42.3038785658803\n",
      "38: Model MSE = 37.93160847259775\n",
      "39: Model MSE = 42.930798316599976\n",
      "40: Model MSE = 41.75618927224383\n",
      "41: Model MSE = 43.418027505391244\n",
      "42: Model MSE = 43.60337897974514\n",
      "43: Model MSE = 41.206142939049414\n",
      "44: Model MSE = 51.10704107679749\n",
      "45: Model MSE = 54.02525914424466\n",
      "46: Model MSE = 40.368203261047206\n",
      "47: Model MSE = 43.141666318946044\n",
      "48: Model MSE = 42.55621871559469\n",
      "49: Model MSE = 48.24853337343843\n"
     ]
    }
   ],
   "source": [
    "for i in range(0,50):\n",
    "    # Splitting Train/Test Data\n",
    "    seed = 42 + i*2\n",
    "    x_train, x_test, y_train, y_test = train_test_split(predictors, target, test_size=0.3, random_state=seed)\n",
    "    # Model \n",
    "    model.fit(x_train, y_train,  epochs=50, verbose=0)\n",
    "    # Evaluation\n",
    "    y_pred = model.predict(x_test)\n",
    "    mse[i] = mean_squared_error(y_test, y_pred)\n",
    "    print(\"{}: Model MSE = {}\".format(i,mse[i]))\n",
    "    \n"
   ]
  },
  {
   "cell_type": "markdown",
   "metadata": {},
   "source": [
    "### Results A"
   ]
  },
  {
   "cell_type": "code",
   "execution_count": 27,
   "metadata": {},
   "outputs": [
    {
     "data": {
      "text/html": [
       "<div>\n",
       "<style scoped>\n",
       "    .dataframe tbody tr th:only-of-type {\n",
       "        vertical-align: middle;\n",
       "    }\n",
       "\n",
       "    .dataframe tbody tr th {\n",
       "        vertical-align: top;\n",
       "    }\n",
       "\n",
       "    .dataframe thead th {\n",
       "        text-align: right;\n",
       "    }\n",
       "</style>\n",
       "<table border=\"1\" class=\"dataframe\">\n",
       "  <thead>\n",
       "    <tr style=\"text-align: right;\">\n",
       "      <th></th>\n",
       "      <th>Part</th>\n",
       "      <th>mean_mse</th>\n",
       "      <th>std_sq_mse</th>\n",
       "    </tr>\n",
       "  </thead>\n",
       "  <tbody>\n",
       "    <tr>\n",
       "      <th>0</th>\n",
       "      <td>A</td>\n",
       "      <td>56.143991</td>\n",
       "      <td>24.232888</td>\n",
       "    </tr>\n",
       "  </tbody>\n",
       "</table>\n",
       "</div>"
      ],
      "text/plain": [
       "  Part   mean_mse  std_sq_mse\n",
       "0    A  56.143991   24.232888"
      ]
     },
     "execution_count": 27,
     "metadata": {},
     "output_type": "execute_result"
    }
   ],
   "source": [
    "a_mean_mse = np.mean(mse)\n",
    "a_std_mse = np.std(mse)\n",
    "\n",
    "df_results = pd.DataFrame.from_dict({\"Part\": [\"A\"],\"mean_mse\": [a_mean_mse], \"std_sq_mse\": [a_std_mse]})\n",
    "df_results"
   ]
  },
  {
   "cell_type": "markdown",
   "metadata": {},
   "source": [
    "# Part B - Normalized Data"
   ]
  },
  {
   "cell_type": "code",
   "execution_count": 28,
   "metadata": {},
   "outputs": [
    {
     "data": {
      "text/html": [
       "<div>\n",
       "<style scoped>\n",
       "    .dataframe tbody tr th:only-of-type {\n",
       "        vertical-align: middle;\n",
       "    }\n",
       "\n",
       "    .dataframe tbody tr th {\n",
       "        vertical-align: top;\n",
       "    }\n",
       "\n",
       "    .dataframe thead th {\n",
       "        text-align: right;\n",
       "    }\n",
       "</style>\n",
       "<table border=\"1\" class=\"dataframe\">\n",
       "  <thead>\n",
       "    <tr style=\"text-align: right;\">\n",
       "      <th></th>\n",
       "      <th>Cement</th>\n",
       "      <th>Blast Furnace Slag</th>\n",
       "      <th>Fly Ash</th>\n",
       "      <th>Water</th>\n",
       "      <th>Superplasticizer</th>\n",
       "      <th>Coarse Aggregate</th>\n",
       "      <th>Fine Aggregate</th>\n",
       "      <th>Age</th>\n",
       "    </tr>\n",
       "  </thead>\n",
       "  <tbody>\n",
       "    <tr>\n",
       "      <th>0</th>\n",
       "      <td>2.476712</td>\n",
       "      <td>-0.856472</td>\n",
       "      <td>-0.846733</td>\n",
       "      <td>-0.916319</td>\n",
       "      <td>-0.620147</td>\n",
       "      <td>0.862735</td>\n",
       "      <td>-1.217079</td>\n",
       "      <td>-0.279597</td>\n",
       "    </tr>\n",
       "    <tr>\n",
       "      <th>1</th>\n",
       "      <td>2.476712</td>\n",
       "      <td>-0.856472</td>\n",
       "      <td>-0.846733</td>\n",
       "      <td>-0.916319</td>\n",
       "      <td>-0.620147</td>\n",
       "      <td>1.055651</td>\n",
       "      <td>-1.217079</td>\n",
       "      <td>-0.279597</td>\n",
       "    </tr>\n",
       "    <tr>\n",
       "      <th>2</th>\n",
       "      <td>0.491187</td>\n",
       "      <td>0.795140</td>\n",
       "      <td>-0.846733</td>\n",
       "      <td>2.174405</td>\n",
       "      <td>-1.038638</td>\n",
       "      <td>-0.526262</td>\n",
       "      <td>-2.239829</td>\n",
       "      <td>3.551340</td>\n",
       "    </tr>\n",
       "    <tr>\n",
       "      <th>3</th>\n",
       "      <td>0.491187</td>\n",
       "      <td>0.795140</td>\n",
       "      <td>-0.846733</td>\n",
       "      <td>2.174405</td>\n",
       "      <td>-1.038638</td>\n",
       "      <td>-0.526262</td>\n",
       "      <td>-2.239829</td>\n",
       "      <td>5.055221</td>\n",
       "    </tr>\n",
       "    <tr>\n",
       "      <th>4</th>\n",
       "      <td>-0.790075</td>\n",
       "      <td>0.678079</td>\n",
       "      <td>-0.846733</td>\n",
       "      <td>0.488555</td>\n",
       "      <td>-1.038638</td>\n",
       "      <td>0.070492</td>\n",
       "      <td>0.647569</td>\n",
       "      <td>4.976069</td>\n",
       "    </tr>\n",
       "  </tbody>\n",
       "</table>\n",
       "</div>"
      ],
      "text/plain": [
       "     Cement  Blast Furnace Slag   Fly Ash     Water  Superplasticizer  \\\n",
       "0  2.476712           -0.856472 -0.846733 -0.916319         -0.620147   \n",
       "1  2.476712           -0.856472 -0.846733 -0.916319         -0.620147   \n",
       "2  0.491187            0.795140 -0.846733  2.174405         -1.038638   \n",
       "3  0.491187            0.795140 -0.846733  2.174405         -1.038638   \n",
       "4 -0.790075            0.678079 -0.846733  0.488555         -1.038638   \n",
       "\n",
       "   Coarse Aggregate  Fine Aggregate       Age  \n",
       "0          0.862735       -1.217079 -0.279597  \n",
       "1          1.055651       -1.217079 -0.279597  \n",
       "2         -0.526262       -2.239829  3.551340  \n",
       "3         -0.526262       -2.239829  5.055221  \n",
       "4          0.070492        0.647569  4.976069  "
      ]
     },
     "execution_count": 28,
     "metadata": {},
     "output_type": "execute_result"
    }
   ],
   "source": [
    "# Normalizing\n",
    "predictors_norm = (predictors - predictors.mean()) / predictors.std()\n",
    "predictors_norm.head()"
   ]
  },
  {
   "cell_type": "markdown",
   "metadata": {},
   "source": [
    "### Loop"
   ]
  },
  {
   "cell_type": "code",
   "execution_count": 29,
   "metadata": {},
   "outputs": [
    {
     "name": "stdout",
     "output_type": "stream",
     "text": [
      "0: Model MSE = 404.0897896009085\n",
      "1: Model MSE = 190.40768974264526\n",
      "2: Model MSE = 116.83182192918429\n",
      "3: Model MSE = 91.51402166907641\n",
      "4: Model MSE = 61.340466808128696\n",
      "5: Model MSE = 63.01140923056655\n",
      "6: Model MSE = 44.86475241614612\n",
      "7: Model MSE = 43.828523621763864\n",
      "8: Model MSE = 42.51549010056815\n",
      "9: Model MSE = 36.93405623981028\n",
      "10: Model MSE = 37.2522999035918\n",
      "11: Model MSE = 41.10469556496234\n",
      "12: Model MSE = 35.55344734330195\n",
      "13: Model MSE = 36.56508117294197\n",
      "14: Model MSE = 35.70417671075946\n",
      "15: Model MSE = 37.850595087269774\n",
      "16: Model MSE = 37.67280980491196\n",
      "17: Model MSE = 37.14514452563416\n",
      "18: Model MSE = 32.17737068146608\n",
      "19: Model MSE = 33.65294357647105\n",
      "20: Model MSE = 34.673003319230695\n",
      "21: Model MSE = 35.200880323601986\n",
      "22: Model MSE = 36.77933387325709\n",
      "23: Model MSE = 36.31579376238663\n",
      "24: Model MSE = 36.47999810572271\n",
      "25: Model MSE = 33.975524089871\n",
      "26: Model MSE = 41.12460318943618\n",
      "27: Model MSE = 34.01723637113123\n",
      "28: Model MSE = 35.1813009687615\n",
      "29: Model MSE = 36.263529514944324\n",
      "30: Model MSE = 36.11882538610163\n",
      "31: Model MSE = 34.186278072279734\n",
      "32: Model MSE = 35.0745908629081\n",
      "33: Model MSE = 30.277294851229104\n",
      "34: Model MSE = 31.90412576996695\n",
      "35: Model MSE = 31.73292396183809\n",
      "36: Model MSE = 31.130304837581054\n",
      "37: Model MSE = 32.86655116350357\n",
      "38: Model MSE = 37.017922689623326\n",
      "39: Model MSE = 31.374219255639158\n",
      "40: Model MSE = 31.785877489109676\n",
      "41: Model MSE = 34.11757525853325\n",
      "42: Model MSE = 39.90057932630187\n",
      "43: Model MSE = 30.74236851954862\n",
      "44: Model MSE = 31.160934928310443\n",
      "45: Model MSE = 30.041381228764983\n",
      "46: Model MSE = 31.78380300412032\n",
      "47: Model MSE = 30.932575572231634\n",
      "48: Model MSE = 31.625547300714064\n",
      "49: Model MSE = 27.891080709215764\n"
     ]
    }
   ],
   "source": [
    "for i in range(0,50):\n",
    "    # Splitting Train/Test Data\n",
    "    seed = 48 + i*2\n",
    "    x_train, x_test, y_train, y_test = train_test_split(predictors_norm, target, test_size=0.3, random_state=seed)\n",
    "    # Model \n",
    "    model.fit(x_train, y_train,  epochs=50, verbose=0)\n",
    "    # Evaluation\n",
    "    y_pred = model.predict(x_test)\n",
    "    mse[i] = mean_squared_error(y_test, y_pred)\n",
    "    print(\"{}: Model MSE = {}\".format(i,mse[i]))"
   ]
  },
  {
   "cell_type": "markdown",
   "metadata": {},
   "source": [
    "### Results B "
   ]
  },
  {
   "cell_type": "code",
   "execution_count": 30,
   "metadata": {},
   "outputs": [
    {
     "data": {
      "text/html": [
       "<div>\n",
       "<style scoped>\n",
       "    .dataframe tbody tr th:only-of-type {\n",
       "        vertical-align: middle;\n",
       "    }\n",
       "\n",
       "    .dataframe tbody tr th {\n",
       "        vertical-align: top;\n",
       "    }\n",
       "\n",
       "    .dataframe thead th {\n",
       "        text-align: right;\n",
       "    }\n",
       "</style>\n",
       "<table border=\"1\" class=\"dataframe\">\n",
       "  <thead>\n",
       "    <tr style=\"text-align: right;\">\n",
       "      <th></th>\n",
       "      <th>Part</th>\n",
       "      <th>mean_mse</th>\n",
       "      <th>std_sq_mse</th>\n",
       "    </tr>\n",
       "  </thead>\n",
       "  <tbody>\n",
       "    <tr>\n",
       "      <th>0</th>\n",
       "      <td>A</td>\n",
       "      <td>56.143991</td>\n",
       "      <td>24.232888</td>\n",
       "    </tr>\n",
       "    <tr>\n",
       "      <th>1</th>\n",
       "      <td>B</td>\n",
       "      <td>49.433851</td>\n",
       "      <td>56.912651</td>\n",
       "    </tr>\n",
       "  </tbody>\n",
       "</table>\n",
       "</div>"
      ],
      "text/plain": [
       "  Part   mean_mse  std_sq_mse\n",
       "0    A  56.143991   24.232888\n",
       "1    B  49.433851   56.912651"
      ]
     },
     "execution_count": 30,
     "metadata": {},
     "output_type": "execute_result"
    }
   ],
   "source": [
    "b_mean_mse = np.mean(mse)\n",
    "b_std_mse = np.std(mse)\n",
    "\n",
    "df_results.loc[df_results.shape[0]] = [\"B\",b_mean_mse,b_std_mse]\n",
    "df_results\n",
    "\n"
   ]
  },
  {
   "cell_type": "markdown",
   "metadata": {},
   "source": [
    "# Part C - 100 Epochs"
   ]
  },
  {
   "cell_type": "markdown",
   "metadata": {},
   "source": [
    "### Loop"
   ]
  },
  {
   "cell_type": "code",
   "execution_count": 31,
   "metadata": {},
   "outputs": [
    {
     "name": "stdout",
     "output_type": "stream",
     "text": [
      "0: Model MSE = 33.80085554059416\n",
      "1: Model MSE = 27.2704169570423\n",
      "2: Model MSE = 27.857418879206936\n",
      "3: Model MSE = 36.01896796301359\n",
      "4: Model MSE = 28.338430391110755\n",
      "5: Model MSE = 27.291053754422435\n",
      "6: Model MSE = 28.461346060508756\n",
      "7: Model MSE = 28.114186235678986\n",
      "8: Model MSE = 28.881360823930038\n",
      "9: Model MSE = 24.59779505513606\n",
      "10: Model MSE = 27.712834286274052\n",
      "11: Model MSE = 25.52810258071672\n",
      "12: Model MSE = 25.815214027538342\n",
      "13: Model MSE = 26.586908646033926\n",
      "14: Model MSE = 24.365502793894382\n",
      "15: Model MSE = 30.003880895168408\n",
      "16: Model MSE = 26.068460409858506\n",
      "17: Model MSE = 28.029581156940534\n",
      "18: Model MSE = 24.370621340364597\n",
      "19: Model MSE = 25.220768505191614\n",
      "20: Model MSE = 23.48957246586129\n",
      "21: Model MSE = 27.260020869246812\n",
      "22: Model MSE = 23.397889536397816\n",
      "23: Model MSE = 26.70484857415346\n",
      "24: Model MSE = 26.684931868413777\n",
      "25: Model MSE = 24.63429238927072\n",
      "26: Model MSE = 29.96152040385726\n",
      "27: Model MSE = 23.416398895338926\n",
      "28: Model MSE = 25.76647596519868\n",
      "29: Model MSE = 27.08822298494779\n",
      "30: Model MSE = 28.942505638220688\n",
      "31: Model MSE = 26.210509324877275\n",
      "32: Model MSE = 27.341619484694153\n",
      "33: Model MSE = 23.018829475601418\n",
      "34: Model MSE = 24.176210889916675\n",
      "35: Model MSE = 22.547546530802684\n",
      "36: Model MSE = 25.23761223275568\n",
      "37: Model MSE = 24.658159457752063\n",
      "38: Model MSE = 28.163482354129766\n",
      "39: Model MSE = 24.60275157115516\n",
      "40: Model MSE = 25.99386154972844\n",
      "41: Model MSE = 26.486561204958075\n",
      "42: Model MSE = 30.418776360102182\n",
      "43: Model MSE = 22.48002070504505\n",
      "44: Model MSE = 24.520750071190438\n",
      "45: Model MSE = 21.338399774720195\n",
      "46: Model MSE = 24.074864936106877\n",
      "47: Model MSE = 23.801090069338795\n",
      "48: Model MSE = 23.707797732704986\n",
      "49: Model MSE = 23.013306410130433\n"
     ]
    }
   ],
   "source": [
    "for i in range(0,50):\n",
    "    # Splitting Train/Test Data\n",
    "    seed = 48 + i*2\n",
    "    x_train, x_test, y_train, y_test = train_test_split(predictors_norm, target, test_size=0.3, random_state=seed)\n",
    "    # Model \n",
    "    model.fit(x_train, y_train,  epochs=100, verbose=0)\n",
    "    # Evaluation\n",
    "    y_pred = model.predict(x_test)\n",
    "    mse[i] = mean_squared_error(y_test, y_pred)\n",
    "    print(\"{}: Model MSE = {}\".format(i,mse[i]))"
   ]
  },
  {
   "cell_type": "markdown",
   "metadata": {},
   "source": [
    "### Results C"
   ]
  },
  {
   "cell_type": "code",
   "execution_count": 32,
   "metadata": {},
   "outputs": [
    {
     "data": {
      "text/html": [
       "<div>\n",
       "<style scoped>\n",
       "    .dataframe tbody tr th:only-of-type {\n",
       "        vertical-align: middle;\n",
       "    }\n",
       "\n",
       "    .dataframe tbody tr th {\n",
       "        vertical-align: top;\n",
       "    }\n",
       "\n",
       "    .dataframe thead th {\n",
       "        text-align: right;\n",
       "    }\n",
       "</style>\n",
       "<table border=\"1\" class=\"dataframe\">\n",
       "  <thead>\n",
       "    <tr style=\"text-align: right;\">\n",
       "      <th></th>\n",
       "      <th>Part</th>\n",
       "      <th>mean_mse</th>\n",
       "      <th>std_sq_mse</th>\n",
       "    </tr>\n",
       "  </thead>\n",
       "  <tbody>\n",
       "    <tr>\n",
       "      <th>0</th>\n",
       "      <td>A</td>\n",
       "      <td>56.143991</td>\n",
       "      <td>24.232888</td>\n",
       "    </tr>\n",
       "    <tr>\n",
       "      <th>1</th>\n",
       "      <td>B</td>\n",
       "      <td>49.433851</td>\n",
       "      <td>56.912651</td>\n",
       "    </tr>\n",
       "    <tr>\n",
       "      <th>2</th>\n",
       "      <td>C</td>\n",
       "      <td>26.269451</td>\n",
       "      <td>2.770411</td>\n",
       "    </tr>\n",
       "  </tbody>\n",
       "</table>\n",
       "</div>"
      ],
      "text/plain": [
       "  Part   mean_mse  std_sq_mse\n",
       "0    A  56.143991   24.232888\n",
       "1    B  49.433851   56.912651\n",
       "2    C  26.269451    2.770411"
      ]
     },
     "execution_count": 32,
     "metadata": {},
     "output_type": "execute_result"
    }
   ],
   "source": [
    "c_mean_mse = np.mean(mse)\n",
    "c_std_mse = np.std(mse)\n",
    "\n",
    "df_results.loc[df_results.shape[0]] = [\"C\",c_mean_mse,c_std_mse]\n",
    "df_results\n",
    "\n"
   ]
  },
  {
   "cell_type": "markdown",
   "metadata": {},
   "source": [
    "# Part D - Three Hidden Layers"
   ]
  },
  {
   "cell_type": "markdown",
   "metadata": {},
   "source": [
    "### Model"
   ]
  },
  {
   "cell_type": "code",
   "execution_count": 33,
   "metadata": {},
   "outputs": [],
   "source": [
    "def advanced():\n",
    "    model = Sequential()\n",
    "    model.add(Dense(10, activation='relu', input_shape=(n_cols,)))\n",
    "    model.add(Dense(10, activation='relu'))\n",
    "    model.add(Dense(10, activation='relu'))\n",
    "    model.add(Dense(1))\n",
    "    \n",
    "    # compile model\n",
    "    model.compile(optimizer='adam', loss='mean_squared_error')\n",
    "    return model\n",
    "\n",
    "# Build the Model\n",
    "model = advanced()"
   ]
  },
  {
   "cell_type": "markdown",
   "metadata": {},
   "source": [
    "### Loop"
   ]
  },
  {
   "cell_type": "code",
   "execution_count": 34,
   "metadata": {},
   "outputs": [
    {
     "name": "stdout",
     "output_type": "stream",
     "text": [
      "0: Model MSE = 125.06533206695788\n",
      "1: Model MSE = 111.39317463096569\n",
      "2: Model MSE = 98.3616439635067\n",
      "3: Model MSE = 77.70997623351268\n",
      "4: Model MSE = 44.53314899630184\n",
      "5: Model MSE = 45.094452437857186\n",
      "6: Model MSE = 40.90690744882608\n",
      "7: Model MSE = 42.68983019598237\n",
      "8: Model MSE = 39.34879768876064\n",
      "9: Model MSE = 32.882680925260466\n",
      "10: Model MSE = 29.64427684324661\n",
      "11: Model MSE = 30.938585791051583\n",
      "12: Model MSE = 28.97229964714618\n",
      "13: Model MSE = 28.889544526981418\n",
      "14: Model MSE = 28.124045450019786\n",
      "15: Model MSE = 32.68567158705942\n",
      "16: Model MSE = 26.2046706378604\n",
      "17: Model MSE = 28.01648037741208\n",
      "18: Model MSE = 24.90651351790487\n",
      "19: Model MSE = 28.358453765701984\n",
      "20: Model MSE = 29.662776559592935\n",
      "21: Model MSE = 27.450869506084192\n",
      "22: Model MSE = 28.012650246336555\n",
      "23: Model MSE = 26.766643565960763\n",
      "24: Model MSE = 27.823157870526398\n",
      "25: Model MSE = 26.40365487212751\n",
      "26: Model MSE = 29.816368890277715\n",
      "27: Model MSE = 26.352299546754985\n",
      "28: Model MSE = 27.896735325241195\n",
      "29: Model MSE = 27.397149657237016\n",
      "30: Model MSE = 25.53493897597483\n",
      "31: Model MSE = 27.72211464342581\n",
      "32: Model MSE = 26.409043188764258\n",
      "33: Model MSE = 23.86688363463918\n",
      "34: Model MSE = 25.12703291752207\n",
      "35: Model MSE = 23.248960491991802\n",
      "36: Model MSE = 23.204637634806762\n",
      "37: Model MSE = 26.140753671267177\n",
      "38: Model MSE = 26.613230748941746\n",
      "39: Model MSE = 24.0872547271585\n",
      "40: Model MSE = 27.527777424804665\n",
      "41: Model MSE = 25.065792698071554\n",
      "42: Model MSE = 25.944469927293007\n",
      "43: Model MSE = 21.35938029838029\n",
      "44: Model MSE = 26.60710772163335\n",
      "45: Model MSE = 20.71732118631208\n",
      "46: Model MSE = 19.630967030500067\n",
      "47: Model MSE = 21.843607758084538\n",
      "48: Model MSE = 20.129613200616944\n",
      "49: Model MSE = 21.519037026022428\n"
     ]
    }
   ],
   "source": [
    "for i in range(0,50):\n",
    "    # Splitting Train/Test Data\n",
    "    seed = 48 + i*2\n",
    "    x_train, x_test, y_train, y_test = train_test_split(predictors_norm, target, test_size=0.3, random_state=seed)\n",
    "    # Model \n",
    "    model.fit(x_train, y_train,  epochs=50, verbose=0)\n",
    "    # Evaluation\n",
    "    y_pred = model.predict(x_test)\n",
    "    mse[i] = mean_squared_error(y_test, y_pred)\n",
    "    print(\"{}: Model MSE = {}\".format(i,mse[i]))"
   ]
  },
  {
   "cell_type": "markdown",
   "metadata": {},
   "source": [
    "### Results D "
   ]
  },
  {
   "cell_type": "code",
   "execution_count": 35,
   "metadata": {},
   "outputs": [
    {
     "data": {
      "text/html": [
       "<div>\n",
       "<style scoped>\n",
       "    .dataframe tbody tr th:only-of-type {\n",
       "        vertical-align: middle;\n",
       "    }\n",
       "\n",
       "    .dataframe tbody tr th {\n",
       "        vertical-align: top;\n",
       "    }\n",
       "\n",
       "    .dataframe thead th {\n",
       "        text-align: right;\n",
       "    }\n",
       "</style>\n",
       "<table border=\"1\" class=\"dataframe\">\n",
       "  <thead>\n",
       "    <tr style=\"text-align: right;\">\n",
       "      <th></th>\n",
       "      <th>Part</th>\n",
       "      <th>mean_mse</th>\n",
       "      <th>std_sq_mse</th>\n",
       "    </tr>\n",
       "  </thead>\n",
       "  <tbody>\n",
       "    <tr>\n",
       "      <th>0</th>\n",
       "      <td>A</td>\n",
       "      <td>56.143991</td>\n",
       "      <td>24.232888</td>\n",
       "    </tr>\n",
       "    <tr>\n",
       "      <th>1</th>\n",
       "      <td>B</td>\n",
       "      <td>49.433851</td>\n",
       "      <td>56.912651</td>\n",
       "    </tr>\n",
       "    <tr>\n",
       "      <th>2</th>\n",
       "      <td>C</td>\n",
       "      <td>26.269451</td>\n",
       "      <td>2.770411</td>\n",
       "    </tr>\n",
       "    <tr>\n",
       "      <th>3</th>\n",
       "      <td>D</td>\n",
       "      <td>34.092174</td>\n",
       "      <td>21.692680</td>\n",
       "    </tr>\n",
       "  </tbody>\n",
       "</table>\n",
       "</div>"
      ],
      "text/plain": [
       "  Part   mean_mse  std_sq_mse\n",
       "0    A  56.143991   24.232888\n",
       "1    B  49.433851   56.912651\n",
       "2    C  26.269451    2.770411\n",
       "3    D  34.092174   21.692680"
      ]
     },
     "execution_count": 35,
     "metadata": {},
     "output_type": "execute_result"
    }
   ],
   "source": [
    "d_mean_mse = np.mean(mse)\n",
    "d_std_mse = np.std(mse)\n",
    "\n",
    "df_results.loc[df_results.shape[0]] = [\"D\",d_mean_mse,d_std_mse]\n",
    "df_results\n"
   ]
  },
  {
   "cell_type": "markdown",
   "metadata": {},
   "source": [
    "<hr>\n",
    "\n",
    "Copyright © 2019 Moritz Abe"
   ]
  }
 ],
 "metadata": {
  "kernelspec": {
   "display_name": "Python",
   "language": "python",
   "name": "conda-env-python-py"
  },
  "language_info": {
   "codemirror_mode": {
    "name": "ipython",
    "version": 3
   },
   "file_extension": ".py",
   "mimetype": "text/x-python",
   "name": "python",
   "nbconvert_exporter": "python",
   "pygments_lexer": "ipython3",
   "version": "3.7.12"
  }
 },
 "nbformat": 4,
 "nbformat_minor": 4
}
